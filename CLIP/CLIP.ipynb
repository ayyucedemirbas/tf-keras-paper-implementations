{
  "nbformat": 4,
  "nbformat_minor": 0,
  "metadata": {
    "colab": {
      "provenance": [],
      "gpuType": "T4"
    },
    "kernelspec": {
      "name": "python3",
      "display_name": "Python 3"
    },
    "language_info": {
      "name": "python"
    },
    "accelerator": "GPU"
  },
  "cells": [
    {
      "cell_type": "code",
      "source": [
        "import os\n",
        "import random\n",
        "import json\n",
        "import pandas as pd\n",
        "import numpy as np\n",
        "import tensorflow as tf\n",
        "from tensorflow.keras import layers, models\n",
        "from tensorflow.keras.preprocessing.text import Tokenizer\n",
        "from tensorflow.keras.preprocessing.image import load_img, img_to_array"
      ],
      "metadata": {
        "id": "HTtaRbEhSzv2"
      },
      "execution_count": 1,
      "outputs": []
    },
    {
      "cell_type": "code",
      "source": [
        "!wget https://openi.nlm.nih.gov/imgs/collections/NLMCXR_png.tgz"
      ],
      "metadata": {
        "colab": {
          "base_uri": "https://localhost:8080/"
        },
        "id": "uTgnbLK7S2Wi",
        "outputId": "ee6a2c21-025c-4dd6-b49b-51fb0c4652a1"
      },
      "execution_count": 2,
      "outputs": [
        {
          "output_type": "stream",
          "name": "stdout",
          "text": [
            "--2025-02-01 17:53:08--  https://openi.nlm.nih.gov/imgs/collections/NLMCXR_png.tgz\n",
            "Resolving openi.nlm.nih.gov (openi.nlm.nih.gov)... 130.14.65.157, 2607:f220:41e:7065::157\n",
            "Connecting to openi.nlm.nih.gov (openi.nlm.nih.gov)|130.14.65.157|:443... connected.\n",
            "HTTP request sent, awaiting response... 200 OK\n",
            "Length: 1360814128 (1.3G) [application/x-gzip]\n",
            "Saving to: ‘NLMCXR_png.tgz’\n",
            "\n",
            "NLMCXR_png.tgz      100%[===================>]   1.27G  1.99MB/s    in 11m 0s  \n",
            "\n",
            "2025-02-01 18:04:08 (1.97 MB/s) - ‘NLMCXR_png.tgz’ saved [1360814128/1360814128]\n",
            "\n"
          ]
        }
      ]
    },
    {
      "cell_type": "code",
      "source": [
        "!wget https://openi.nlm.nih.gov/imgs/collections/NLMCXR_reports.tgz"
      ],
      "metadata": {
        "colab": {
          "base_uri": "https://localhost:8080/"
        },
        "id": "Kf5uaJSHS-2W",
        "outputId": "d2c983c4-d9c6-40ea-b9fc-5beb0967cc54"
      },
      "execution_count": 3,
      "outputs": [
        {
          "output_type": "stream",
          "name": "stdout",
          "text": [
            "--2025-02-01 18:04:27--  https://openi.nlm.nih.gov/imgs/collections/NLMCXR_reports.tgz\n",
            "Resolving openi.nlm.nih.gov (openi.nlm.nih.gov)... 130.14.65.157, 2607:f220:41e:7065::157\n",
            "Connecting to openi.nlm.nih.gov (openi.nlm.nih.gov)|130.14.65.157|:443... connected.\n",
            "HTTP request sent, awaiting response... 200 OK\n",
            "Length: 1112632 (1.1M) [application/x-gzip]\n",
            "Saving to: ‘NLMCXR_reports.tgz’\n",
            "\n",
            "NLMCXR_reports.tgz  100%[===================>]   1.06M  1.69MB/s    in 0.6s    \n",
            "\n",
            "2025-02-01 18:04:28 (1.69 MB/s) - ‘NLMCXR_reports.tgz’ saved [1112632/1112632]\n",
            "\n"
          ]
        }
      ]
    },
    {
      "cell_type": "code",
      "source": [
        "!mkdir workdir"
      ],
      "metadata": {
        "id": "0JeibBNWekj2"
      },
      "execution_count": 4,
      "outputs": []
    },
    {
      "cell_type": "code",
      "source": [
        "%cd workdir"
      ],
      "metadata": {
        "colab": {
          "base_uri": "https://localhost:8080/"
        },
        "id": "ZlruHtxeeme3",
        "outputId": "82020089-29eb-44e0-f2a5-ebe6beddb8f8"
      },
      "execution_count": 5,
      "outputs": [
        {
          "output_type": "stream",
          "name": "stdout",
          "text": [
            "/content/workdir\n"
          ]
        }
      ]
    },
    {
      "cell_type": "code",
      "source": [
        "!tar -xvzf /content/NLMCXR_png.tgz -C .\n",
        "!tar -xvzf /content/NLMCXR_reports.tgz -C ."
      ],
      "metadata": {
        "id": "Egz8vlPCihAa"
      },
      "execution_count": null,
      "outputs": []
    },
    {
      "cell_type": "code",
      "source": [
        "%cd .."
      ],
      "metadata": {
        "colab": {
          "base_uri": "https://localhost:8080/"
        },
        "id": "JUWF8ag4ijl6",
        "outputId": "2e830b7e-bcdd-4ea6-af88-5645aa00797f"
      },
      "execution_count": 7,
      "outputs": [
        {
          "output_type": "stream",
          "name": "stdout",
          "text": [
            "/content\n"
          ]
        }
      ]
    },
    {
      "cell_type": "code",
      "source": [
        "!mv workdir/ecgen-radiology ."
      ],
      "metadata": {
        "id": "KKGa09tLiyJT"
      },
      "execution_count": 8,
      "outputs": []
    },
    {
      "cell_type": "code",
      "source": [
        "!ls -al"
      ],
      "metadata": {
        "id": "xa9oVr5_i1x1",
        "colab": {
          "base_uri": "https://localhost:8080/"
        },
        "outputId": "2080fe55-f815-4f50-dbed-3fb5bf25e85b"
      },
      "execution_count": 9,
      "outputs": [
        {
          "output_type": "stream",
          "name": "stdout",
          "text": [
            "total 1330472\n",
            "drwxr-xr-x 1 root root       4096 Feb  1 18:05 .\n",
            "drwxr-xr-x 1 root root       4096 Feb  1 17:48 ..\n",
            "drwxr-xr-x 4 root root       4096 Jan 30 14:18 .config\n",
            "drwxr-xr-x 2  929  212      94208 Feb  4  2016 ecgen-radiology\n",
            "-rw-r--r-- 1 root root 1360814128 Sep  6  2016 NLMCXR_png.tgz\n",
            "-rw-r--r-- 1 root root    1112632 Jun  6  2017 NLMCXR_reports.tgz\n",
            "drwxr-xr-x 1 root root       4096 Jan 30 14:19 sample_data\n",
            "drwxr-xr-x 2   48   48     352256 Feb  1 18:05 workdir\n"
          ]
        }
      ]
    },
    {
      "cell_type": "code",
      "source": [
        "import xml.etree.ElementTree as ET"
      ],
      "metadata": {
        "id": "O0-d4j20inSA"
      },
      "execution_count": 10,
      "outputs": []
    },
    {
      "cell_type": "code",
      "source": [
        "def find_valid_pairs(image_dir='workdir', report_dir='ecgen-radiology'):\n",
        "    valid_pairs = []\n",
        "    report_files = {}\n",
        "\n",
        "    for root, _, files in os.walk(report_dir):\n",
        "        for f in files:\n",
        "            if f.lower().endswith('.xml'):\n",
        "                base_name = os.path.splitext(f)[0].lower()\n",
        "                report_files[base_name] = os.path.join(root, f)\n",
        "\n",
        "    for root, _, files in os.walk(image_dir):\n",
        "        for f in files:\n",
        "            if f.lower().endswith('.png'):\n",
        "                base_name = os.path.splitext(f)[0].lower()\n",
        "                if base_name in report_files:\n",
        "                    valid_pairs.append((\n",
        "                        os.path.join(root, f),\n",
        "                        report_files[base_name]\n",
        "                    ))\n",
        "    return valid_pairs\n",
        "\n",
        "\n",
        "def parse_xml_report(xml_path):\n",
        "    try:\n",
        "        tree = ET.parse(xml_path)\n",
        "        root = tree.getroot()\n",
        "        ns = {'pmc': 'http://www.ncbi.nlm.nih.gov/pmc/articles/PMC'}\n",
        "\n",
        "        findings_elem = root.find(\".//pmc:AbstractText[@Label='FINDINGS']\", ns)\n",
        "        impression_elem = root.find(\".//pmc:AbstractText[@Label='IMPRESSION']\", ns)\n",
        "\n",
        "        findings = findings_elem.text.strip() if (findings_elem is not None and findings_elem.text) else \"\"\n",
        "        impression = impression_elem.text.strip() if (impression_elem is not None and impression_elem.text) else \"\"\n",
        "\n",
        "        if not findings and not impression:\n",
        "            return None\n",
        "\n",
        "        return f\"FINDINGS: {findings}. IMPRESSION: {impression}\"\n",
        "\n",
        "    except Exception as e:\n",
        "        print(f\"Error parsing {xml_path}: {str(e)}\")\n",
        "        return None\n"
      ],
      "metadata": {
        "id": "Ka7j4WAni3yp"
      },
      "execution_count": 11,
      "outputs": []
    },
    {
      "cell_type": "code",
      "source": [
        "import os\n",
        "import xml.etree.ElementTree as ET\n",
        "import pandas as pd\n",
        "\n",
        "def parse_xml_report(xml_path):\n",
        "    try:\n",
        "        tree = ET.parse(xml_path)\n",
        "        root = tree.getroot()\n",
        "        ns = {'pmc': 'http://www.ncbi.nlm.nih.gov/pmc/articles/PMC'}\n",
        "\n",
        "        findings = root.find(\".//AbstractText[@Label='FINDINGS']\", ns)\n",
        "        impression = root.find(\".//AbstractText[@Label='IMPRESSION']\", ns)\n",
        "\n",
        "        findings_text = findings.text.strip() if (findings is not None and findings.text) else \"\"\n",
        "        impression_text = impression.text.strip() if (impression is not None and impression.text) else \"\"\n",
        "\n",
        "        if not findings_text and not impression_text:\n",
        "            return None, []\n",
        "\n",
        "        image_ids = [img.get('id') for img in root.findall('.//parentImage')]\n",
        "\n",
        "        image_paths = [f\"workdir/{img_id}.png\" for img_id in image_ids]\n",
        "\n",
        "        return (\n",
        "            f\"FINDINGS: {findings_text}. IMPRESSION: {impression_text}\",\n",
        "            image_paths\n",
        "        )\n",
        "\n",
        "    except Exception as e:\n",
        "        print(f\"Error parsing {xml_path}: {str(e)}\")\n",
        "        return None, []\n",
        "\n",
        "def create_dataset():\n",
        "    data = []\n",
        "\n",
        "    for root_dir, _, files in os.walk(\"ecgen-radiology\"):\n",
        "        for file in files:\n",
        "            if file.lower().endswith('.xml'):\n",
        "                xml_path = os.path.join(root_dir, file)\n",
        "                report_text, image_paths = parse_xml_report(xml_path)\n",
        "\n",
        "                if report_text and image_paths:\n",
        "                    for img_path in image_paths:\n",
        "                        if os.path.exists(img_path):\n",
        "                            data.append({\n",
        "                                'image_path': img_path,\n",
        "                                'report': report_text\n",
        "                            })\n",
        "                        else:\n",
        "                            print(f\"Missing image: {img_path}\")\n",
        "\n",
        "    return pd.DataFrame(data)\n",
        "\n",
        "radiology_df = create_dataset()\n",
        "print(f\"Found {len(radiology_df)} valid image-report pairs\")\n",
        "\n",
        "if not radiology_df.empty:\n",
        "    print(\"\\nSample entry:\")\n",
        "    print(f\"Image path: {radiology_df.iloc[0]['image_path']}\")\n",
        "    print(f\"Report: {radiology_df.iloc[0]['report']}\")\n",
        "else:\n",
        "    print(\"\\nNo valid pairs found. Check:\")\n",
        "    print(\"- XML files in ecgen-radiology directory\")\n",
        "    print(\"- Image files in workdir directory\")\n",
        "    print(\"- File naming consistency between XML and PNG files\")"
      ],
      "metadata": {
        "colab": {
          "base_uri": "https://localhost:8080/"
        },
        "id": "Yjyjyp2HjClS",
        "outputId": "f38c9359-2748-49d8-bda5-9071359b4298"
      },
      "execution_count": 12,
      "outputs": [
        {
          "output_type": "stream",
          "name": "stdout",
          "text": [
            "Found 7430 valid image-report pairs\n",
            "\n",
            "Sample entry:\n",
            "Image path: workdir/CXR1329_IM-0211-1001.png\n",
            "Report: FINDINGS: Two nodules are noted in the right XXXX XXXX measuring 13 mm and one measuring 16 mm in diameter. The smaller one appears to be within the right upper lobe and the large XXXX appears to be within the left lower lobe. No focal consolidation and no other pulmonary nodules are identified. However, if a full evaluation for lung nodules is desired consider XXXX for further evaluation. No pleural effusions or pneumothoraces. Heart and mediastinum of normal size and contour.. IMPRESSION: At XXXX 2 right lung pulmonary nodules concerning for<BR>metastatic disease\n"
          ]
        }
      ]
    },
    {
      "cell_type": "code",
      "source": [
        "tokenizer = Tokenizer(\n",
        "    num_words=5000,\n",
        "    oov_token=\"\",\n",
        "    filters='!\"#$%&()*+.,-/:;=?@[\\]^_`{|}~ '\n",
        ")\n",
        "\n",
        "\n",
        "tokenizer.fit_on_texts(radiology_df['report'])\n",
        "vocab_size = len(tokenizer.word_index) + 1\n",
        "max_length = 100\n",
        "\n",
        "\n",
        "print([word for word in tokenizer.word_index if \"pneumonia\" in word or \"effusion\" in word][:10])"
      ],
      "metadata": {
        "colab": {
          "base_uri": "https://localhost:8080/"
        },
        "id": "oYb2IL0AjLF7",
        "outputId": "f3895f8b-cda2-477c-f458-f41433c07c43"
      },
      "execution_count": 13,
      "outputs": [
        {
          "output_type": "stream",
          "name": "stdout",
          "text": [
            "['effusion', 'effusions', 'pneumonia']\n"
          ]
        }
      ]
    },
    {
      "cell_type": "code",
      "source": [
        "def preprocess_sample(sample):\n",
        "    img = load_img(sample['image_path'], target_size=(224, 224))\n",
        "    img = img_to_array(img) / 255.0\n",
        "\n",
        "    seq = tokenizer.texts_to_sequences([sample['report']])[0]\n",
        "    seq = tf.keras.preprocessing.sequence.pad_sequences([seq], maxlen=max_length, padding='post')[0]\n",
        "    return img, seq\n",
        "\n",
        "def dataset_generator(df):\n",
        "    for idx, row in df.iterrows():\n",
        "        yield {'image_path': row['image_path'], 'report': row['report']}"
      ],
      "metadata": {
        "id": "jU7ZBCnNkA2i"
      },
      "execution_count": 14,
      "outputs": []
    },
    {
      "cell_type": "code",
      "source": [
        "output_signature = {\n",
        "    'image_path': tf.TensorSpec(shape=(), dtype=tf.string),\n",
        "    'report': tf.TensorSpec(shape=(), dtype=tf.string)\n",
        "}\n",
        "\n",
        "ds = tf.data.Dataset.from_generator(\n",
        "    lambda: dataset_generator(radiology_df),\n",
        "    output_signature=output_signature\n",
        ")"
      ],
      "metadata": {
        "id": "_D9vjde0kCah"
      },
      "execution_count": 15,
      "outputs": []
    },
    {
      "cell_type": "code",
      "source": [
        "def map_func(image_path, report):\n",
        "    image_path = image_path.numpy().decode('utf-8')\n",
        "    report = report.numpy().decode('utf-8')\n",
        "    img, seq = preprocess_sample({'image_path': image_path, 'report': report})\n",
        "    return img, seq\n",
        "\n",
        "def tf_map_func(image_path, report):\n",
        "    img, seq = tf.py_function(\n",
        "        func=map_func,\n",
        "        inp=[image_path, report],\n",
        "        Tout=[tf.float32, tf.int32]\n",
        "    )\n",
        "    img.set_shape((224, 224, 3))\n",
        "    seq.set_shape((max_length,))\n",
        "    return img, seq"
      ],
      "metadata": {
        "id": "PdbwBiS0kHhC"
      },
      "execution_count": 16,
      "outputs": []
    },
    {
      "cell_type": "code",
      "source": [
        "batch_size = 16\n",
        "AUTOTUNE = tf.data.AUTOTUNE"
      ],
      "metadata": {
        "id": "G1d7uEcmkJJg"
      },
      "execution_count": 17,
      "outputs": []
    },
    {
      "cell_type": "code",
      "source": [
        "ds = ds.shuffle(buffer_size=len(radiology_df))\n",
        "ds = ds.map(lambda sample: tf_map_func(sample['image_path'], sample['report']),\n",
        "            num_parallel_calls=AUTOTUNE)\n",
        "ds = ds.batch(batch_size)\n",
        "ds = ds.prefetch(AUTOTUNE)"
      ],
      "metadata": {
        "id": "42dpQPw7kLGV"
      },
      "execution_count": 18,
      "outputs": []
    },
    {
      "cell_type": "code",
      "source": [
        "embedding_dim = 256\n",
        "num_transformer_blocks = 4\n",
        "num_heads = 8\n",
        "ff_dim = 512\n",
        "image_size = 224"
      ],
      "metadata": {
        "id": "7VP1KQfpkjEQ"
      },
      "execution_count": 19,
      "outputs": []
    },
    {
      "cell_type": "code",
      "source": [
        "def create_vit_encoder(image_size):\n",
        "    inputs = layers.Input(shape=(image_size, image_size, 3))\n",
        "    patch_size = 16\n",
        "    num_patches = (image_size // patch_size) ** 2\n",
        "    projection_dim = 768\n",
        "\n",
        "    patches = layers.Conv2D(\n",
        "        filters=projection_dim,\n",
        "        kernel_size=patch_size,\n",
        "        strides=patch_size,\n",
        "        padding=\"valid\"\n",
        "    )(inputs)\n",
        "    patches = layers.Reshape((num_patches, projection_dim))(patches)\n",
        "\n",
        "    positional_embedding = layers.Embedding(input_dim=num_patches, output_dim=projection_dim)\n",
        "    positions = tf.range(start=0, limit=num_patches, delta=1)\n",
        "    encoded_patches = patches + positional_embedding(positions)\n",
        "\n",
        "    for _ in range(num_transformer_blocks):\n",
        "        x1 = layers.LayerNormalization(epsilon=1e-6)(encoded_patches)\n",
        "        attention_output = layers.MultiHeadAttention(\n",
        "            num_heads=num_heads, key_dim=projection_dim)(x1, x1)\n",
        "        x2 = layers.Add()([x1, attention_output])\n",
        "        x3 = layers.LayerNormalization(epsilon=1e-6)(x2)\n",
        "        ffn_output = layers.Dense(ff_dim, activation=\"relu\")(x3)\n",
        "        ffn_output = layers.Dense(projection_dim)(ffn_output)\n",
        "        encoded_patches = layers.Add()([x2, ffn_output])\n",
        "\n",
        "    model = models.Model(inputs, encoded_patches, name=\"vit_encoder\")\n",
        "    return model\n",
        "\n",
        "def create_image_encoder(image_size, embedding_dim):\n",
        "    inputs = layers.Input(shape=(image_size, image_size, 3))\n",
        "    vit = create_vit_encoder(image_size)\n",
        "    x = vit(inputs)\n",
        "    x = layers.GlobalAveragePooling1D()(x)\n",
        "    # Project to shared embedding dimension\n",
        "    outputs = layers.Dense(embedding_dim)(x)\n",
        "    model = models.Model(inputs, outputs, name=\"image_encoder\")\n",
        "    return model\n",
        "\n",
        "def create_text_encoder(vocab_size, embedding_dim, max_length):\n",
        "    inputs = layers.Input(shape=(max_length,))\n",
        "    x = layers.Embedding(vocab_size, embedding_dim, mask_zero=True)(inputs)\n",
        "\n",
        "    positional_embeddings = layers.Embedding(max_length, embedding_dim)(tf.range(start=0, limit=max_length, delta=1))\n",
        "    x = x + positional_embeddings\n",
        "\n",
        "    for _ in range(num_transformer_blocks):\n",
        "        x1 = layers.LayerNormalization(epsilon=1e-6)(x)\n",
        "        attention_output = layers.MultiHeadAttention(\n",
        "            num_heads=num_heads, key_dim=embedding_dim)(x1, x1)\n",
        "        x2 = layers.Add()([x1, attention_output])\n",
        "        x3 = layers.LayerNormalization(epsilon=1e-6)(x2)\n",
        "        ffn_output = layers.Dense(ff_dim, activation=\"relu\")(x3)\n",
        "        ffn_output = layers.Dense(embedding_dim)(ffn_output)\n",
        "        x = layers.Add()([x2, ffn_output])\n",
        "    x = layers.GlobalAveragePooling1D()(x)\n",
        "    outputs = layers.Dense(embedding_dim)(x)\n",
        "    model = models.Model(inputs, outputs, name=\"text_encoder\")\n",
        "    return model\n"
      ],
      "metadata": {
        "id": "eYnUP8LfkoDA"
      },
      "execution_count": 20,
      "outputs": []
    },
    {
      "cell_type": "code",
      "source": [
        "image_encoder = create_image_encoder(image_size, embedding_dim)\n",
        "text_encoder = create_text_encoder(vocab_size, embedding_dim, max_length)"
      ],
      "metadata": {
        "id": "0gwCDiuWkqC4"
      },
      "execution_count": 21,
      "outputs": []
    },
    {
      "cell_type": "code",
      "source": [
        "class CLIPModel(tf.keras.Model):\n",
        "    def __init__(self, image_encoder, text_encoder, temperature=0.05):\n",
        "        super(CLIPModel, self).__init__()\n",
        "        self.image_encoder = image_encoder\n",
        "        self.text_encoder = text_encoder\n",
        "        self.temperature = tf.Variable(temperature, trainable=True, dtype=tf.float32)\n",
        "\n",
        "    def compile(self, optimizer):\n",
        "        super(CLIPModel, self).compile()\n",
        "        self.optimizer = optimizer\n",
        "        self.loss_tracker = tf.keras.metrics.Mean(name=\"loss\")\n",
        "\n",
        "    @property\n",
        "    def metrics(self):\n",
        "        return [self.loss_tracker]\n",
        "\n",
        "    def train_step(self, data):\n",
        "        images, texts = data  # images: (batch, H, W, 3); texts: (batch, max_length)\n",
        "\n",
        "        with tf.GradientTape() as tape:\n",
        "            img_embeddings = self.image_encoder(images, training=True)\n",
        "            txt_embeddings = self.text_encoder(texts, training=True)\n",
        "\n",
        "            img_embeddings = tf.math.l2_normalize(img_embeddings, axis=1)\n",
        "            txt_embeddings = tf.math.l2_normalize(txt_embeddings, axis=1)\n",
        "\n",
        "            # Compute similarity logits: (batch, batch)\n",
        "            logits = tf.matmul(img_embeddings, txt_embeddings, transpose_b=True)\n",
        "            logits = logits / self.temperature\n",
        "\n",
        "            # Ground truth: diagonal elements are the matching pairs.\n",
        "            batch_size = tf.shape(images)[0]\n",
        "            labels = tf.range(batch_size)\n",
        "\n",
        "            # Compute cross-entropy loss for image->text and text->image\n",
        "            loss_i2t = tf.keras.losses.sparse_categorical_crossentropy(labels, logits, from_logits=True)\n",
        "            loss_t2i = tf.keras.losses.sparse_categorical_crossentropy(labels, tf.transpose(logits), from_logits=True)\n",
        "            loss = (loss_i2t + loss_t2i) / 2.0\n",
        "            # implemented indirectly via cross-entropy on the similarity logits\n",
        "\n",
        "        # Compute gradients and update weights\n",
        "        gradients = tape.gradient(loss, self.trainable_variables)\n",
        "        self.optimizer.apply_gradients(zip(gradients, self.trainable_variables))\n",
        "        self.loss_tracker.update_state(loss)\n",
        "        return {\"loss\": self.loss_tracker.result()}\n",
        "\n",
        "    def call(self, inputs):\n",
        "        images, texts = inputs\n",
        "        img_embeddings = tf.math.l2_normalize(self.image_encoder(images, training=False), axis=1)\n",
        "        txt_embeddings = tf.math.l2_normalize(self.text_encoder(texts, training=False), axis=1)\n",
        "        return img_embeddings, txt_embeddings"
      ],
      "metadata": {
        "id": "bFEfSXFhkuoq"
      },
      "execution_count": 22,
      "outputs": []
    },
    {
      "cell_type": "code",
      "source": [
        "clip_model = CLIPModel(image_encoder, text_encoder, temperature=0.05)\n",
        "optimizer = tf.keras.optimizers.Adam(learning_rate=1e-4)\n",
        "clip_model.compile(optimizer=optimizer)"
      ],
      "metadata": {
        "id": "Ps6-9P5nkw_S"
      },
      "execution_count": 23,
      "outputs": []
    },
    {
      "cell_type": "code",
      "source": [
        "def get_text_embedding(text):\n",
        "    seq = tokenizer.texts_to_sequences([text])[0]\n",
        "    seq = tf.keras.preprocessing.sequence.pad_sequences([seq], maxlen=max_length, padding='post')\n",
        "    emb = text_encoder(seq, training=False)\n",
        "    emb = tf.math.l2_normalize(emb, axis=1)\n",
        "    return emb\n",
        "\n",
        "def get_image_embedding(image_path):\n",
        "    img = load_img(image_path, target_size=(image_size, image_size))\n",
        "    img = img_to_array(img) / 255.0\n",
        "    img = np.expand_dims(img, axis=0)\n",
        "    emb = image_encoder(img, training=False)\n",
        "    emb = tf.math.l2_normalize(emb, axis=1)\n",
        "    return emb\n",
        "\n",
        "test_image = 'abdomen.jpg'\n",
        "img_emb = get_image_embedding(test_image)\n",
        "print(\"Image embedding:\", img_emb.numpy())\n",
        "\n",
        "all_reports = radiology_df['report'].tolist()\n",
        "all_text_embeddings = []\n",
        "for report in all_reports:\n",
        "    emb = get_text_embedding(report)\n",
        "    all_text_embeddings.append(emb.numpy()[0])\n",
        "all_text_embeddings = np.array(all_text_embeddings)\n",
        "\n",
        "cosine_sim = np.dot(all_text_embeddings, img_emb.numpy()[0])\n",
        "best_idx = np.argmax(cosine_sim)\n",
        "print(\"\\nBest matching report:\")\n",
        "print(all_reports[best_idx])"
      ],
      "metadata": {
        "id": "ak9AcSOLj9pc",
        "colab": {
          "base_uri": "https://localhost:8080/"
        },
        "outputId": "4f26db41-84ad-4e9e-d250-e1d788cadc90"
      },
      "execution_count": 26,
      "outputs": [
        {
          "output_type": "stream",
          "name": "stdout",
          "text": [
            "Image embedding: [[ 5.19025652e-03 -1.93503650e-03  7.41550997e-02  7.24981651e-02\n",
            "   1.70999747e-02 -2.88388901e-03 -5.97404465e-02  1.37591958e-01\n",
            "   1.22428285e-02  5.91578670e-02 -4.31015678e-02  4.54588458e-02\n",
            "  -8.53043795e-02  8.32905248e-02 -9.05539433e-04 -1.55762630e-02\n",
            "  -7.18553970e-03  9.08427313e-02 -7.21411360e-03  1.90396775e-02\n",
            "   1.66523650e-01 -9.78799388e-02 -5.52991480e-02 -1.51381427e-02\n",
            "   6.65674955e-02 -9.62648541e-03  1.68737024e-02  2.77595758e-03\n",
            "  -2.75012031e-02  9.40379500e-02 -1.81359246e-01  1.08761452e-01\n",
            "   9.07887071e-02  1.58452652e-02 -2.20381040e-02  1.88226998e-02\n",
            "   1.12390108e-01  1.32979108e-02  9.69370753e-02  7.89263919e-02\n",
            "   4.14209813e-02 -5.40465973e-02 -3.31970342e-02  2.71900813e-03\n",
            "  -2.40069218e-02  8.60891026e-03  5.90242110e-02 -3.57223488e-02\n",
            "   3.50522697e-02 -6.75756186e-02 -4.06914987e-02  2.03068107e-02\n",
            "   3.44154909e-02 -5.18562421e-02 -7.55153969e-02 -2.07307097e-02\n",
            "   7.75841251e-02 -2.09746696e-02 -1.41451200e-02 -1.13957606e-01\n",
            "   4.94828671e-02 -4.61108461e-02 -8.06150213e-02 -1.69537272e-02\n",
            "  -9.42093432e-02  9.17790681e-02  4.90851663e-02  1.41196251e-02\n",
            "   6.25745058e-02 -1.95696447e-02 -5.76573722e-02  9.77519434e-03\n",
            "  -2.95775700e-02  1.13961743e-02 -1.19294226e-01  2.47510057e-02\n",
            "   3.22425663e-02  1.78749990e-02 -2.45464612e-02 -6.97586611e-02\n",
            "  -1.02164358e-01 -1.07612908e-01  6.35389760e-02  1.96046084e-02\n",
            "   4.85324822e-02  6.93438621e-03  4.54894640e-03 -4.28650267e-02\n",
            "   5.13062552e-02 -8.55009556e-02  1.09981699e-02  4.21657711e-02\n",
            "  -8.94740522e-02  5.23744449e-02  3.33325844e-03  5.23326453e-03\n",
            "   7.89176021e-03  1.59162998e-01 -9.04393792e-02  3.18366161e-04\n",
            "  -3.14137759e-03 -1.48653492e-01 -1.14548765e-01 -5.38381822e-02\n",
            "   5.04277647e-02  2.44805329e-02 -9.02735367e-02  8.22820142e-02\n",
            "  -2.42593903e-02 -4.26775031e-02  6.45497516e-02  2.13559717e-02\n",
            "   2.51986366e-02  2.99037937e-02  4.50231507e-02  4.77081686e-02\n",
            "  -3.90824378e-02 -2.72952244e-02 -9.93599370e-02 -2.59027840e-03\n",
            "  -3.52349598e-03 -3.04480735e-02 -4.42812294e-02 -3.35338106e-03\n",
            "  -6.97067827e-02  1.11103868e-02  5.74157690e-04 -1.24748379e-01\n",
            "   5.55416569e-02  3.03610973e-02  1.61587801e-02 -1.00768887e-01\n",
            "  -6.06839955e-02  1.10689752e-01 -1.05227292e-01  1.18527263e-01\n",
            "   9.17359740e-02  3.26956362e-02 -2.40445901e-02  6.23231847e-03\n",
            "   7.02018142e-02 -1.07782722e-01  5.88728413e-02  9.89378542e-02\n",
            "  -1.13590993e-02  8.36873502e-02  1.11511284e-02  5.39721325e-02\n",
            "   7.47939870e-02  1.01087382e-03 -6.97961524e-02  2.84660719e-02\n",
            "   6.17050305e-02 -9.43295062e-02 -7.74589553e-02 -7.58306086e-02\n",
            "   1.79581214e-02  3.95324919e-03  6.56915456e-02  3.25110629e-02\n",
            "  -5.84740788e-02 -5.35888225e-02  2.83968281e-02  3.21720950e-02\n",
            "   2.44578030e-02  3.23402919e-02  4.20802757e-02  8.73085111e-02\n",
            "  -5.77672496e-02 -4.30555493e-02  2.36029085e-02 -9.54364762e-02\n",
            "   7.38552064e-02  6.57451153e-02  1.09912112e-01  1.71847269e-02\n",
            "   1.59505382e-02 -2.47607864e-02 -8.67337063e-02  8.75027291e-03\n",
            "   4.62786146e-02  1.24971075e-02 -7.99953416e-02 -2.99854111e-02\n",
            "  -4.44970578e-02 -4.81983647e-02  5.65849096e-02  1.04919754e-01\n",
            "   3.73285972e-02 -4.37132195e-02  5.49036544e-03  1.75530638e-03\n",
            "   3.35784592e-02  4.87351902e-02  3.60257551e-02  3.79930660e-02\n",
            "   8.46259072e-02  2.24223696e-02  6.15365207e-02  5.04853874e-02\n",
            "   7.16732591e-02  9.75929722e-02  1.33929905e-02  6.14287890e-02\n",
            "   1.09584071e-02 -2.33544186e-02  4.60973829e-02 -5.90168685e-02\n",
            "  -2.20260601e-02  4.34639268e-02 -7.43415356e-02 -6.27782717e-02\n",
            "  -1.49519429e-01 -1.99825000e-02  5.07822484e-02  3.46559286e-02\n",
            "  -3.54925506e-02 -8.64739493e-02 -5.84042370e-02  7.22302496e-02\n",
            "   1.98247773e-03  3.52764279e-02  1.55694872e-01 -9.88654137e-05\n",
            "   1.39143702e-03  4.10317779e-02  1.52604282e-02  5.56078833e-03\n",
            "   3.53904925e-02 -7.86679760e-02  1.34362340e-01 -1.46697843e-02\n",
            "  -2.81300191e-02 -9.27152559e-02  2.61544287e-02  3.23737785e-02\n",
            "   3.33974627e-03 -1.76151898e-02 -4.85082529e-03 -1.60511926e-01\n",
            "  -3.75951789e-02 -1.61567703e-02 -6.06802329e-02  8.24379921e-03\n",
            "  -5.81949279e-02 -2.50059236e-02 -1.23767527e-02  6.28044829e-02\n",
            "   4.78502586e-02  5.28499000e-02 -5.30681200e-03 -7.94910938e-02\n",
            "   1.52671248e-01  8.49778354e-02  7.90023282e-02  1.36858905e-02]]\n",
            "\n",
            "Best matching report:\n",
            "FINDINGS: Chest. The trachea is midline. Negative for pneumothorax, pleural effusion or focal airspace consolidation. The heart size is normal. Abdomen. No pneumoperitoneum. There is a normal bowel XXXX pattern. Air and stool visible throughout the entire large colon including the rectum. No abnormally dilated small bowel loops. No evidence for intussusception or small bowel obstruction. No pathologic calcifications XXXX over the abdomen or pelvis. XXXX XXXX are without fracture or destructive lesion, though there are mild degenerative changes throughout the lumbar spine. Small hiatal hernia is not as well demonstrated on this exam.. IMPRESSION: Chest. 1. No acute cardiopulmonary abnormality. Abdomen. 1. No acute intra-abdominal process. Negative for obstruction.\n"
          ]
        }
      ]
    },
    {
      "cell_type": "code",
      "source": [
        "epochs = 1 #you can increase it\n",
        "clip_model.fit(ds, epochs=epochs)"
      ],
      "metadata": {
        "colab": {
          "base_uri": "https://localhost:8080/"
        },
        "id": "y7_LT3KSk0Mp",
        "outputId": "21491711-830f-41f6-8d8f-6a7049785e59"
      },
      "execution_count": 25,
      "outputs": [
        {
          "output_type": "stream",
          "name": "stdout",
          "text": [
            "\u001b[1m465/465\u001b[0m \u001b[32m━━━━━━━━━━━━━━━━━━━━\u001b[0m\u001b[37m\u001b[0m \u001b[1m495s\u001b[0m 965ms/step - loss: 2.7870\n"
          ]
        },
        {
          "output_type": "stream",
          "name": "stderr",
          "text": [
            "/usr/local/lib/python3.11/dist-packages/keras/src/trainers/epoch_iterator.py:151: UserWarning: Your input ran out of data; interrupting training. Make sure that your dataset or generator can generate at least `steps_per_epoch * epochs` batches. You may need to use the `.repeat()` function when building your dataset.\n",
            "  self._interrupted_warning()\n"
          ]
        },
        {
          "output_type": "execute_result",
          "data": {
            "text/plain": [
              "<keras.src.callbacks.history.History at 0x7eef5d17f2d0>"
            ]
          },
          "metadata": {},
          "execution_count": 25
        }
      ]
    }
  ]
}