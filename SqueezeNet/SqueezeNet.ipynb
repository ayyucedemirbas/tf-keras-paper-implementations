{
  "nbformat": 4,
  "nbformat_minor": 0,
  "metadata": {
    "colab": {
      "provenance": []
    },
    "kernelspec": {
      "name": "python3",
      "display_name": "Python 3"
    },
    "language_info": {
      "name": "python"
    },
    "gpuClass": "standard"
  },
  "cells": [
    {
      "cell_type": "markdown",
      "source": [
        "SqueezeNet: AlexNet-level accuracy with 50x fewer parameters and <0.5MB model size: https://arxiv.org/pdf/1602.07360.pdf"
      ],
      "metadata": {
        "id": "XUamB-UbVkd-"
      }
    },
    {
      "cell_type": "code",
      "source": [
        "from tensorflow import keras"
      ],
      "metadata": {
        "id": "sNwFkCq0UHZ-"
      },
      "execution_count": 1,
      "outputs": []
    },
    {
      "cell_type": "code",
      "source": [
        "(x_train, y_train), (x_test, y_test) = keras.datasets.cifar10.load_data()"
      ],
      "metadata": {
        "colab": {
          "base_uri": "https://localhost:8080/"
        },
        "id": "Os29kpVoT_mi",
        "outputId": "263f5c10-36e2-413f-f828-31e5e68028f4"
      },
      "execution_count": 2,
      "outputs": [
        {
          "output_type": "stream",
          "name": "stdout",
          "text": [
            "Downloading data from https://www.cs.toronto.edu/~kriz/cifar-10-python.tar.gz\n",
            "170498071/170498071 [==============================] - 4s 0us/step\n"
          ]
        }
      ]
    },
    {
      "cell_type": "code",
      "execution_count": 5,
      "metadata": {
        "id": "gHZ1kZ5xSdQx"
      },
      "outputs": [],
      "source": [
        "from keras.models import Model\n",
        "from keras.layers import Input, Convolution2D, MaxPooling2D, Activation, concatenate, Dropout, GlobalAveragePooling2D, BatchNormalization"
      ]
    },
    {
      "cell_type": "code",
      "source": [
        "def fire_module(x, fire_id, squeeze=16, expand=64):\n",
        "    s_id = 'fire' + str(fire_id) + '/'\n",
        "\n",
        "    x = Convolution2D(squeeze, (1, 1), padding='valid', name=s_id + 'squeeze1x1')(x)\n",
        "    x = Activation('relu', name=s_id + 'relu_squeeze1x1')(x)\n",
        "\n",
        "    left = Convolution2D(expand, (1, 1), padding='valid', name=s_id + 'expand1x1')(x)\n",
        "    left = Activation('relu', name=s_id + 'relu_expand1x1')(left)\n",
        "\n",
        "    right = Convolution2D(expand, (3, 3), padding='same', name=s_id + 'expand3x3')(x)\n",
        "    right = Activation('relu', name=s_id + 'relu_expand3x3')(right)\n",
        "\n",
        "    x = concatenate([left, right], axis=3, name=s_id + 'concat')\n",
        "\n",
        "    return x\n"
      ],
      "metadata": {
        "id": "3MJeocIoSkVp"
      },
      "execution_count": 6,
      "outputs": []
    },
    {
      "cell_type": "code",
      "source": [
        "# define input\n",
        "input_img = Input(shape=(32, 32, 3))\n",
        "num_classes=10\n",
        "\n",
        "# define the network\n",
        "x = Convolution2D(64, (3, 3), strides=(2, 2), padding='valid', name='conv1')(input_img)\n",
        "x = Activation('relu', name='relu_conv1')(x)\n",
        "x = MaxPooling2D(pool_size=(3, 3), strides=(2, 2), name='pool1')(x)\n",
        "\n",
        "x = fire_module(x, fire_id=2, squeeze=16, expand=64)\n",
        "x = fire_module(x, fire_id=3, squeeze=16, expand=64)\n",
        "x = MaxPooling2D(pool_size=(3, 3), strides=(2, 2), name='pool3')(x)\n",
        "\n",
        "x = fire_module(x, fire_id=4, squeeze=32, expand=128)\n",
        "x = fire_module(x, fire_id=5, squeeze=32, expand=128)\n",
        "x = MaxPooling2D(pool_size=(3, 3), strides=(2, 2), name='pool5')(x)\n",
        "\n",
        "x = fire_module(x, fire_id=6, squeeze=48, expand=192)\n",
        "x = fire_module(x, fire_id=7, squeeze=48, expand=192)\n",
        "x = fire_module(x, fire_id=8, squeeze=64, expand=256)\n",
        "x = fire_module(x, fire_id=9, squeeze=64, expand=256)\n",
        "\n",
        "x = Dropout(0.5, name='drop9')(x)\n",
        "\n",
        "x = Convolution2D(num_classes, (1, 1), padding='valid', name='conv10')(x)\n",
        "x = Activation('relu', name='relu_conv10')(x)\n",
        "x = GlobalAveragePooling2D()(x)\n",
        "x = Activation('softmax', name='loss')(x)\n",
        "\n",
        "# create the model\n",
        "model = Model(inputs=input_img, outputs=x, name='squeezenet')"
      ],
      "metadata": {
        "id": "SGYpS4UlSzl-"
      },
      "execution_count": 7,
      "outputs": []
    },
    {
      "cell_type": "code",
      "source": [
        "opt = keras.optimizers.Adam(learning_rate=1e-4, clipvalue=0.5)\n",
        "model.compile(loss=keras.losses.sparse_categorical_crossentropy, optimizer=opt, metrics=['accuracy',])"
      ],
      "metadata": {
        "id": "cVJ1CqLSUT6X"
      },
      "execution_count": 11,
      "outputs": []
    },
    {
      "cell_type": "code",
      "source": [
        "history = model.fit(x_train, y_train, batch_size=32, epochs=1)"
      ],
      "metadata": {
        "colab": {
          "base_uri": "https://localhost:8080/"
        },
        "id": "isUMaLA2UlRn",
        "outputId": "0235285d-9662-45ea-c648-2679dc22a87f"
      },
      "execution_count": 12,
      "outputs": [
        {
          "output_type": "stream",
          "name": "stdout",
          "text": [
            "1563/1563 [==============================] - 99s 62ms/step - loss: 1.9716 - accuracy: 0.2257\n"
          ]
        }
      ]
    }
  ]
}