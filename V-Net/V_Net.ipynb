{
  "cells": [
    {
      "cell_type": "code",
      "execution_count": null,
      "metadata": {
        "colab": {
          "base_uri": "https://localhost:8080/"
        },
        "id": "YY7r5Gjdq6A9",
        "outputId": "17742e0c-674a-4b39-dabb-ab1b4c472ed1"
      },
      "outputs": [],
      "source": [
        "import tensorflow as tf\n",
        "from tensorflow.keras.models import Model\n",
        "from tensorflow.keras.layers import Input, Conv3D, MaxPooling3D, Conv3DTranspose, Concatenate\n",
        "\n",
        "def VNet(input_shape):\n",
        "    inputs = Input(input_shape)\n",
        "\n",
        "    # Encoding path\n",
        "    conv1 = Conv3D(16, 3, activation='relu', padding='same')(inputs)\n",
        "    conv1 = Conv3D(16, 3, activation='relu', padding='same')(conv1)\n",
        "    pool1 = MaxPooling3D(pool_size=(2, 2, 2))(conv1)\n",
        "\n",
        "    conv2 = Conv3D(32, 3, activation='relu', padding='same')(pool1)\n",
        "    conv2 = Conv3D(32, 3, activation='relu', padding='same')(conv2)\n",
        "    pool2 = MaxPooling3D(pool_size=(2, 2, 2))(conv2)\n",
        "\n",
        "    conv3 = Conv3D(64, 3, activation='relu', padding='same')(pool2)\n",
        "    conv3 = Conv3D(64, 3, activation='relu', padding='same')(conv3)\n",
        "    pool3 = MaxPooling3D(pool_size=(2, 2, 2))(conv3)\n",
        "\n",
        "    conv4 = Conv3D(128, 3, activation='relu', padding='same')(pool3)\n",
        "    conv4 = Conv3D(128, 3, activation='relu', padding='same')(conv4)\n",
        "    pool4 = MaxPooling3D(pool_size=(2, 2, 2))(conv4)\n",
        "\n",
        "    # Bottleneck\n",
        "    conv5 = Conv3D(256, 3, activation='relu', padding='same')(pool4)\n",
        "    conv5 = Conv3D(256, 3, activation='relu', padding='same')(conv5)\n",
        "\n",
        "    # Decoding path\n",
        "    up6 = Conv3DTranspose(128, 2, strides=(2, 2, 2), padding='same')(conv5)\n",
        "    up6 = Concatenate()([up6, conv4])\n",
        "    conv6 = Conv3D(128, 3, activation='relu', padding='same')(up6)\n",
        "    conv6 = Conv3D(128, 3, activation='relu', padding='same')(conv6)\n",
        "\n",
        "    up7 = Conv3DTranspose(64, 2, strides=(2, 2, 2), padding='same')(conv6)\n",
        "    up7 = Concatenate()([up7, conv3])\n",
        "    conv7 = Conv3D(64, 3, activation='relu', padding='same')(up7)\n",
        "    conv7 = Conv3D(64, 3, activation='relu', padding='same')(conv7)\n",
        "\n",
        "    up8 = Conv3DTranspose(32, 2, strides=(2, 2, 2), padding='same')(conv7)\n",
        "    up8 = Concatenate()([up8, conv2])\n",
        "    conv8 = Conv3D(32, 3, activation='relu', padding='same')(up8)\n",
        "    conv8 = Conv3D(32, 3, activation='relu', padding='same')(conv8)\n",
        "\n",
        "    up9 = Conv3DTranspose(16, 2, strides=(2, 2, 2), padding='same')(conv8)\n",
        "    up9 = Concatenate()([up9, conv1])\n",
        "    conv9 = Conv3D(16, 3, activation='relu', padding='same')(up9)\n",
        "    conv9 = Conv3D(16, 3, activation='relu', padding='same')(conv9)\n",
        "\n",
        "    # Output\n",
        "    outputs = Conv3D(1, 1, activation='sigmoid')(conv9)\n",
        "\n",
        "    # Create the model\n",
        "    model = Model(inputs=inputs, outputs=outputs)\n",
        "    return model\n",
        "\n",
        "# Usage example\n",
        "input_shape = (128, 128, 128, 1)  # Adjust input shape according to your data\n",
        "model = VNet(input_shape)\n",
        "model.summary()\n"
      ]
    }
  ],
  "metadata": {
    "colab": {
      "provenance": []
    },
    "kernelspec": {
      "display_name": "Python 3",
      "name": "python3"
    },
    "language_info": {
      "name": "python"
    }
  },
  "nbformat": 4,
  "nbformat_minor": 0
}
