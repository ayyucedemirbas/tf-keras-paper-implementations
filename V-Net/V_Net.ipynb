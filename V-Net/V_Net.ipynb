{
  "cells": [
    {
      "cell_type": "code",
      "execution_count": null,
      "metadata": {
        "colab": {
          "base_uri": "https://localhost:8080/"
        },
        "id": "YY7r5Gjdq6A9",
        "outputId": "17742e0c-674a-4b39-dabb-ab1b4c472ed1"
      },
      "outputs": [],
      "source": [
        "import tensorflow as tf\n",
        "from tensorflow import keras\n",
        "from tensorflow.keras import layers\n",
        "\n",
        "import tensorflow as tf\n",
        "from tensorflow.keras import layers\n",
        "\n",
        "# Define the V-Net model\n",
        "def VNet(input_shape):\n",
        "    # Encoder\n",
        "    inputs = tf.keras.Input(shape=input_shape)\n",
        "    conv1 = layers.Conv3D(16, 3, activation='relu', padding='same')(inputs)\n",
        "    conv1 = layers.Conv3D(16, 3, activation='relu', padding='same')(conv1)\n",
        "    pool1 = layers.MaxPooling3D(pool_size=(2, 2, 2))(conv1)\n",
        "\n",
        "    conv2 = layers.Conv3D(32, 3, activation='relu', padding='same')(pool1)\n",
        "    conv2 = layers.Conv3D(32, 3, activation='relu', padding='same')(conv2)\n",
        "    pool2 = layers.MaxPooling3D(pool_size=(2, 2, 2))(conv2)\n",
        "\n",
        "    conv3 = layers.Conv3D(64, 3, activation='relu', padding='same')(pool2)\n",
        "    conv3 = layers.Conv3D(64, 3, activation='relu', padding='same')(conv3)\n",
        "    pool3 = layers.MaxPooling3D(pool_size=(2, 2, 2))(conv3)\n",
        "\n",
        "    # Decoder\n",
        "    conv4 = layers.Conv3D(64, 3, activation='relu', padding='same')(pool3)\n",
        "    conv4 = layers.Conv3D(64, 3, activation='relu', padding='same')(conv4)\n",
        "    up1 = layers.UpSampling3D(size=(2, 2, 2))(conv4)\n",
        "    up1 = layers.concatenate([conv3, pad(up1, conv3)], axis=-1)\n",
        "\n",
        "    conv5 = layers.Conv3D(32, 3, activation='relu', padding='same')(up1)\n",
        "    conv5 = layers.Conv3D(32, 3, activation='relu', padding='same')(conv5)\n",
        "    up2 = layers.UpSampling3D(size=(2, 2, 2))(conv5)\n",
        "    up2 = layers.concatenate([conv2, pad(up2, conv2)], axis=-1)\n",
        "\n",
        "    conv6 = layers.Conv3D(16, 3, activation='relu', padding='same')(up2)\n",
        "    conv6 = layers.Conv3D(16, 3, activation='relu', padding='same')(conv6)\n",
        "    up3 = layers.UpSampling3D(size=(2, 2, 2))(conv6)\n",
        "    up3 = layers.concatenate([conv1, pad(up3, conv1)], axis=-1)\n",
        "\n",
        "    outputs = layers.Conv3D(1, 1, activation='sigmoid')(up3)\n",
        "\n",
        "    # Create the model\n",
        "    model = tf.keras.Model(inputs=inputs, outputs=outputs)\n",
        "    return model\n",
        "\n",
        "# Define the padding function\n",
        "def pad(inputs, ref):\n",
        "    target_shape = ref.shape[1:-1]\n",
        "    inputs_shape = inputs.shape[1:-1]\n",
        "\n",
        "    pad_start = [(t - i) // 2 for t, i in zip(target_shape, inputs_shape)]\n",
        "    pad_end = [t - i - s for t, i, s in zip(target_shape, inputs_shape, pad_start)]\n",
        "    paddings = [(0, 0)] + [(s, e) for s, e in zip(pad_start, pad_end)] + [(0, 0)]\n",
        "\n",
        "    return tf.pad(inputs, paddings)"
      ]
    }
  ],
  "metadata": {
    "colab": {
      "provenance": []
    },
    "kernelspec": {
      "display_name": "Python 3",
      "name": "python3"
    },
    "language_info": {
      "name": "python"
    }
  },
  "nbformat": 4,
  "nbformat_minor": 0
}
