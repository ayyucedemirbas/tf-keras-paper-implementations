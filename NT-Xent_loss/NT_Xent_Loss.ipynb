{
  "nbformat": 4,
  "nbformat_minor": 0,
  "metadata": {
    "colab": {
      "provenance": []
    },
    "kernelspec": {
      "name": "python3",
      "display_name": "Python 3"
    },
    "language_info": {
      "name": "python"
    }
  },
  "cells": [
    {
      "cell_type": "code",
      "source": [
        "import tensorflow as tf"
      ],
      "metadata": {
        "id": "0nDbKToV-Aul"
      },
      "execution_count": 1,
      "outputs": []
    },
    {
      "cell_type": "code",
      "execution_count": 4,
      "metadata": {
        "id": "pNdNDu0l90_X"
      },
      "outputs": [],
      "source": [
        "def nt_xent_loss(features, temperature=0.1):\n",
        "\n",
        "    features = tf.math.l2_normalize(features, axis=1)\n",
        "\n",
        "    similarity_matrix = tf.matmul(features, features, transpose_b=True)\n",
        "\n",
        "    batch_size = tf.shape(features)[0]\n",
        "    mask = tf.eye(batch_size)\n",
        "\n",
        "    logits = similarity_matrix - 1e9 * mask\n",
        "\n",
        "    logits /= temperature\n",
        "\n",
        "    labels = tf.range(batch_size)\n",
        "    labels = (labels + batch_size // 2) % batch_size\n",
        "    loss = tf.nn.sparse_softmax_cross_entropy_with_logits(logits=logits, labels=labels)\n",
        "\n",
        "    loss = tf.reduce_mean(loss)\n",
        "\n",
        "    return loss\n"
      ]
    },
    {
      "cell_type": "code",
      "source": [
        "def nt_xent_loss(features, temperature=0.1):\n",
        "\n",
        "  features = tf.math.l2_normalize(features, axis=1)\n",
        "\n",
        "  similarity_matrix = tf.matmul(features, features, transpose_b=True)\n",
        "\n",
        "  batch_size = tf.shape(features)[0]\n",
        "\n",
        "  logits = similarity_matrix / temperature\n",
        "\n",
        "  labels = tf.range(batch_size)\n",
        "  labels = (labels + batch_size // 2) % batch_size\n",
        "  loss = tf.nn.sparse_softmax_cross_entropy_with_logits(logits=logits, labels=labels)\n",
        "\n",
        "  loss = tf.reduce_mean(loss)\n",
        "\n",
        "  return loss"
      ],
      "metadata": {
        "id": "P0_v_2R7_4XM"
      },
      "execution_count": 6,
      "outputs": []
    },
    {
      "cell_type": "code",
      "source": [
        "batch_size = 10  # Ensure even number\n",
        "feature_dim = 128\n",
        "\n",
        "embeddings = tf.random.normal([batch_size * 2, feature_dim])\n",
        "\n",
        "loss = nt_xent_loss(embeddings)\n",
        "print(\"NT-Xent Loss:\", loss.numpy())\n"
      ],
      "metadata": {
        "colab": {
          "base_uri": "https://localhost:8080/"
        },
        "id": "OqBP1_QM-Iaa",
        "outputId": "dc9af484-53a4-44f5-d1f3-4fcbce23f03a"
      },
      "execution_count": 10,
      "outputs": [
        {
          "output_type": "stream",
          "name": "stdout",
          "text": [
            "NT-Xent Loss: 9.637476\n"
          ]
        }
      ]
    }
  ]
}