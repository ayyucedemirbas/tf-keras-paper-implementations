{
  "nbformat": 4,
  "nbformat_minor": 0,
  "metadata": {
    "colab": {
      "provenance": []
    },
    "kernelspec": {
      "name": "python3",
      "display_name": "Python 3"
    },
    "language_info": {
      "name": "python"
    }
  },
  "cells": [
    {
      "cell_type": "markdown",
      "source": [
        "U-Net: Convolutional Networks for Biomedical\n",
        "Image Segmentation: https://arxiv.org/pdf/1505.04597.pdf"
      ],
      "metadata": {
        "id": "8eavJmpK8Gdo"
      }
    },
    {
      "cell_type": "code",
      "execution_count": 3,
      "metadata": {
        "id": "9_knj0SB5bad"
      },
      "outputs": [],
      "source": [
        "import keras\n",
        "from keras.models import Model\n",
        "from keras.layers import Input, Conv2D, MaxPooling2D, UpSampling2D, Conv2DTranspose, concatenate\n",
        "\n",
        "# define the input layer\n",
        "inputs = Input(shape=(None, None, 3))\n",
        "\n",
        "# define the encoder layers\n",
        "c1 = Conv2D(64, (3, 3), activation='relu', padding='same')(inputs)\n",
        "c1 = Conv2D(64, (3, 3), activation='relu', padding='same')(c1)\n",
        "p1 = MaxPooling2D((2, 2))(c1)\n",
        "\n",
        "c2 = Conv2D(128, (3, 3), activation='relu', padding='same')(p1)\n",
        "c2 = Conv2D(128, (3, 3), activation='relu', padding='same')(c2)\n",
        "p2 = MaxPooling2D((2, 2))(c2)\n",
        "\n",
        "c3 = Conv2D(256, (3, 3), activation='relu', padding='same')(p2)\n",
        "c3 = Conv2D(256, (3, 3), activation='relu', padding='same')(c3)\n",
        "p3 = MaxPooling2D((2, 2))(c3)\n",
        "\n",
        "c4 = Conv2D(512, (3, 3), activation='relu', padding='same')(p3)\n",
        "c4 = Conv2D(512, (3, 3), activation='relu', padding='same')(c4)\n",
        "p4 = MaxPooling2D((2, 2))(c4)\n",
        "\n",
        "c5 = Conv2D(1024, (3, 3), activation='relu', padding='same')(p4)\n",
        "c5 = Conv2D(1024, (3, 3), activation='relu', padding='same')(c5)\n",
        "\n",
        "# define the decoder layers\n",
        "\n",
        "u6 = Conv2DTranspose(512, (2, 2), strides=(2, 2), padding='same')(c5)\n",
        "u6 = concatenate([u6, c4])\n",
        "c6 = Conv2D(512, (3, 3), activation='relu', padding='same')(u6)\n",
        "c6 = Conv2D(512, (3, 3), activation='relu', padding='same')(c6)\n",
        "\n",
        "u7 = Conv2DTranspose(256, (2, 2), strides=(2, 2), padding='same')(c6)\n",
        "u7 = concatenate([u7, c3])\n",
        "c7 = Conv2D(256, (3, 3), activation='relu', padding='same')(u7)\n",
        "c7 = Conv2D(256, (3, 3), activation='relu', padding='same')(c7)\n",
        "\n",
        "u8 = Conv2DTranspose(128, (2, 2), strides=(2, 2), padding='same')(c7)\n",
        "u8 = concatenate([u8, c2])\n",
        "c8 = Conv2D(128, (3, 3), activation='relu', padding='same')(u8)\n",
        "c8 = Conv2D(128, (3, 3), activation='relu', padding='same')(c8)\n",
        "\n",
        "u9 = Conv2DTranspose(64, (2, 2), strides=(2, 2), padding='same')(c8)\n",
        "u9 = concatenate([u9, c1], axis=3)\n",
        "c9 = Conv2D(64, (3, 3), activation='relu', padding='same')(u9)\n",
        "c9 = Conv2D(64, (3, 3), activation='relu', padding='same')(c9)\n",
        "\n",
        "\n",
        "outputs = Conv2D(1, (1, 1), activation='sigmoid')(c9)\n",
        "\n",
        "model = Model(inputs=[inputs], outputs=[outputs])"
      ]
    },
    {
      "cell_type": "code",
      "source": [
        "model.compile(optimizer='adam', loss='binary_crossentropy', metrics=['accuracy'])"
      ],
      "metadata": {
        "id": "huzCUyES5neP"
      },
      "execution_count": 4,
      "outputs": []
    }
  ]
}